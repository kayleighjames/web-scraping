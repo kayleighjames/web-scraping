{
  "nbformat": 4,
  "nbformat_minor": 0,
  "metadata": {
    "colab": {
      "name": "DSE6000 Final Project",
      "provenance": [],
      "collapsed_sections": []
    },
    "kernelspec": {
      "name": "python3",
      "display_name": "Python 3"
    }
  },
  "cells": [
    {
      "cell_type": "code",
      "metadata": {
        "id": "_NuLxaIoSzBJ",
        "colab_type": "code",
        "colab": {}
      },
      "source": [
        "from bs4 import BeautifulSoup\n",
        "import urllib\n",
        "import requests\n",
        "import pandas as pd\n",
        "\n",
        "#state_names = [\"Alaska\", \"Alabama\", \"Arkansas\", \"Arizona\", \"California\", \"Colorado\", \"Connecticut\", \"Delaware\", \"Florida\", \"Georgia\", \"Hawaii\", \"Iowa\", \"Idaho\", \"Illinois\", \"Indiana\", \"Kansas\", \"Kentucky\", \"Louisiana\", \"Massachusetts\", \"Maryland\", \"Maine\", \"Michigan\", \"Minnesota\", \"Missouri\", \"Mississippi\", \"Montana\", \"North Carolina\", \"North Dakota\", \"Nebraska\", \"New Hampshire\", \"New Jersey\", \"New Mexico\", \"Nevada\", \"New York\", \"Ohio\", \"Oklahoma\", \"Oregon\", \"Pennsylvania\", \"Rhode Island\", \"South Carolina\", \"South Dakota\", \"Tennessee\", \"Texas\", \"Utah\", \"Virginia\", \"Vermont\", \"Washington\", \"Wisconsin\", \"West Virginia\", \"Wyoming\"]\n",
        "state_names = [\"Michigan\", \"Illinois\", \"Indiana\"]\n",
        "df = pd.DataFrame(columns = ['state', 'title', 'company', 'salary', 'description', 'url']) "
      ],
      "execution_count": 0,
      "outputs": []
    },
    {
      "cell_type": "code",
      "metadata": {
        "id": "xW7csk9zY590",
        "colab_type": "code",
        "colab": {
          "base_uri": "https://localhost:8080/",
          "height": 419
        },
        "outputId": "65f2d6bc-147b-4ca4-aa35-e4ae9a5ba911"
      },
      "source": [
        "for state in state_names:\n",
        "  url = \"https://www.indeed.com/jobs?q=data+scientist&l=\" + state\n",
        "  for page_number in range (0,2):\n",
        "    url = url + \"&start=\" + str(10*page_number)\n",
        "    #print(url)\n",
        "    req = requests.get(url)\n",
        "    soup = BeautifulSoup(req.content, \"html.parser\")\n",
        "    \n",
        "    for job in soup.find_all(\"a\", class_ = \"jobtitle turnstileLink \"): \n",
        "      job_url  = \"https://www.indeed.com\" + job['href'] \n",
        "      temp_df = pd.DataFrame(columns = ['state', 'title', 'company', 'salary', 'description', 'url']) \n",
        "      #print(job_url)\n",
        "      try:\n",
        "        job_soup = BeautifulSoup(urllib.request.urlopen(job_url)) \n",
        "      except:\n",
        "        pass\n",
        "      try:\n",
        "        job_soup = BeautifulSoup(urllib.request.urlopen(job_url)) \n",
        "      except:\n",
        "        pass\n",
        "      temp_df = temp_df.append({'url' : url} , ignore_index=True)\n",
        "      temp_df['state'] = state\n",
        "      try:\n",
        "        #print(job_soup.find(\"h3\", attrs={\"class\":\"jobsearch-JobInfoHeader-title\"}).text)\n",
        "        temp_df['title'] = job_soup.find(\"h3\", attrs={\"class\":\"jobsearch-JobInfoHeader-title\"}).text\n",
        "      except: \n",
        "        pass\n",
        "      try:\n",
        "        #print(job_soup.find(\"div\", attrs={\"class\":\"icl-u-lg-mr--sm icl-u-xs-mr--xs\"}).text)\n",
        "        temp_df['company'] = job_soup.find(\"div\", attrs={\"class\":\"icl-u-lg-mr--sm icl-u-xs-mr--xs\"}).text\n",
        "      except:\n",
        "        pass\n",
        "      try:\n",
        "        #print(job_soup.find(\"span\", attrs={\"class\":\"icl-u-xs-mr--xs\"}).text)\n",
        "        temp_df['salary'] = job_soup.find(\"span\", attrs={\"class\":\"icl-u-xs-mr--xs\"}).text\n",
        "      except:\n",
        "        pass\n",
        "      try:\n",
        "        #print(job_soup.find(\"div\", attrs={\"class\":\"jobsearch-jobDescriptionText\"}).text)\n",
        "        temp_df['description'] = job_soup.find(\"div\", attrs={\"class\":\"jobsearch-jobDescriptionText\"}).text\n",
        "      except:\n",
        "        pass\n",
        "      df = df.append(temp_df, ignore_index=True)\n",
        "      temp_df.drop(axis=0, index=0)\n",
        "df.head(64)"
      ],
      "execution_count": 8,
      "outputs": [
        {
          "output_type": "execute_result",
          "data": {
            "text/html": [
              "<div>\n",
              "<style scoped>\n",
              "    .dataframe tbody tr th:only-of-type {\n",
              "        vertical-align: middle;\n",
              "    }\n",
              "\n",
              "    .dataframe tbody tr th {\n",
              "        vertical-align: top;\n",
              "    }\n",
              "\n",
              "    .dataframe thead th {\n",
              "        text-align: right;\n",
              "    }\n",
              "</style>\n",
              "<table border=\"1\" class=\"dataframe\">\n",
              "  <thead>\n",
              "    <tr style=\"text-align: right;\">\n",
              "      <th></th>\n",
              "      <th>state</th>\n",
              "      <th>title</th>\n",
              "      <th>company</th>\n",
              "      <th>salary</th>\n",
              "      <th>description</th>\n",
              "      <th>url</th>\n",
              "    </tr>\n",
              "  </thead>\n",
              "  <tbody>\n",
              "    <tr>\n",
              "      <th>0</th>\n",
              "      <td>Michigan</td>\n",
              "      <td>Machine Learning Engineer</td>\n",
              "      <td>Quicken Loans</td>\n",
              "      <td>NaN</td>\n",
              "      <td>Who We Are\\nWe’re America’s largest mortgage l...</td>\n",
              "      <td>https://www.indeed.com/jobs?q=data+scientist&amp;l...</td>\n",
              "    </tr>\n",
              "    <tr>\n",
              "      <th>1</th>\n",
              "      <td>Michigan</td>\n",
              "      <td>Data Scientist</td>\n",
              "      <td>DISYS</td>\n",
              "      <td>$65 an hour</td>\n",
              "      <td>Data Scientist/ AI EngineerLocation: Auburn Hi...</td>\n",
              "      <td>https://www.indeed.com/jobs?q=data+scientist&amp;l...</td>\n",
              "    </tr>\n",
              "    <tr>\n",
              "      <th>2</th>\n",
              "      <td>Michigan</td>\n",
              "      <td>Data Scientist</td>\n",
              "      <td>clinc</td>\n",
              "      <td>NaN</td>\n",
              "      <td>Who We Are\\n\\nWe started Clinc in 2015 with th...</td>\n",
              "      <td>https://www.indeed.com/jobs?q=data+scientist&amp;l...</td>\n",
              "    </tr>\n",
              "    <tr>\n",
              "      <th>3</th>\n",
              "      <td>Michigan</td>\n",
              "      <td>Sr Data Analyst</td>\n",
              "      <td>Ally Financial Inc.</td>\n",
              "      <td>NaN</td>\n",
              "      <td>As a data analyst for Auto Consumer Credit Ope...</td>\n",
              "      <td>https://www.indeed.com/jobs?q=data+scientist&amp;l...</td>\n",
              "    </tr>\n",
              "    <tr>\n",
              "      <th>4</th>\n",
              "      <td>Michigan</td>\n",
              "      <td>Data Scientist 10774 (NO C2C)</td>\n",
              "      <td>NaN</td>\n",
              "      <td>NaN</td>\n",
              "      <td>Description:The AI Engineer will be responsibl...</td>\n",
              "      <td>https://www.indeed.com/jobs?q=data+scientist&amp;l...</td>\n",
              "    </tr>\n",
              "    <tr>\n",
              "      <th>...</th>\n",
              "      <td>...</td>\n",
              "      <td>...</td>\n",
              "      <td>...</td>\n",
              "      <td>...</td>\n",
              "      <td>...</td>\n",
              "      <td>...</td>\n",
              "    </tr>\n",
              "    <tr>\n",
              "      <th>59</th>\n",
              "      <td>Michigan</td>\n",
              "      <td>Data Scientist</td>\n",
              "      <td>Domino's</td>\n",
              "      <td>NaN</td>\n",
              "      <td>Domino’s Pizza, which began in 1960 as a singl...</td>\n",
              "      <td>https://www.indeed.com/jobs?q=data+scientist&amp;l...</td>\n",
              "    </tr>\n",
              "    <tr>\n",
              "      <th>60</th>\n",
              "      <td>Michigan</td>\n",
              "      <td>Data Scientists</td>\n",
              "      <td>Advantage Resourcing</td>\n",
              "      <td>NaN</td>\n",
              "      <td>You will be responsible for providing the data...</td>\n",
              "      <td>https://www.indeed.com/jobs?q=data+scientist&amp;l...</td>\n",
              "    </tr>\n",
              "    <tr>\n",
              "      <th>61</th>\n",
              "      <td>Michigan</td>\n",
              "      <td>Sr. Data Scientist</td>\n",
              "      <td>Venteon</td>\n",
              "      <td>$120,000 a year</td>\n",
              "      <td>Job Description\\nPerform Operational Support.\\...</td>\n",
              "      <td>https://www.indeed.com/jobs?q=data+scientist&amp;l...</td>\n",
              "    </tr>\n",
              "    <tr>\n",
              "      <th>62</th>\n",
              "      <td>Michigan</td>\n",
              "      <td>Data Scientist</td>\n",
              "      <td>DISYS</td>\n",
              "      <td>$65 an hour</td>\n",
              "      <td>Data Scientist/ AI EngineerLocation: Auburn Hi...</td>\n",
              "      <td>https://www.indeed.com/jobs?q=data+scientist&amp;l...</td>\n",
              "    </tr>\n",
              "    <tr>\n",
              "      <th>63</th>\n",
              "      <td>Michigan</td>\n",
              "      <td>Data Scientist</td>\n",
              "      <td>clinc</td>\n",
              "      <td>NaN</td>\n",
              "      <td>Who We Are\\n\\nWe started Clinc in 2015 with th...</td>\n",
              "      <td>https://www.indeed.com/jobs?q=data+scientist&amp;l...</td>\n",
              "    </tr>\n",
              "  </tbody>\n",
              "</table>\n",
              "<p>64 rows × 6 columns</p>\n",
              "</div>"
            ],
            "text/plain": [
              "       state  ...                                                url\n",
              "0   Michigan  ...  https://www.indeed.com/jobs?q=data+scientist&l...\n",
              "1   Michigan  ...  https://www.indeed.com/jobs?q=data+scientist&l...\n",
              "2   Michigan  ...  https://www.indeed.com/jobs?q=data+scientist&l...\n",
              "3   Michigan  ...  https://www.indeed.com/jobs?q=data+scientist&l...\n",
              "4   Michigan  ...  https://www.indeed.com/jobs?q=data+scientist&l...\n",
              "..       ...  ...                                                ...\n",
              "59  Michigan  ...  https://www.indeed.com/jobs?q=data+scientist&l...\n",
              "60  Michigan  ...  https://www.indeed.com/jobs?q=data+scientist&l...\n",
              "61  Michigan  ...  https://www.indeed.com/jobs?q=data+scientist&l...\n",
              "62  Michigan  ...  https://www.indeed.com/jobs?q=data+scientist&l...\n",
              "63  Michigan  ...  https://www.indeed.com/jobs?q=data+scientist&l...\n",
              "\n",
              "[64 rows x 6 columns]"
            ]
          },
          "metadata": {
            "tags": []
          },
          "execution_count": 8
        }
      ]
    },
    {
      "cell_type": "code",
      "metadata": {
        "id": "iAdKOLO1sT7A",
        "colab_type": "code",
        "colab": {
          "base_uri": "https://localhost:8080/",
          "height": 34
        },
        "outputId": "8e32ca66-e83f-4e66-d037-d280a4c25205"
      },
      "source": [
        "df.shape"
      ],
      "execution_count": 9,
      "outputs": [
        {
          "output_type": "execute_result",
          "data": {
            "text/plain": [
              "(140, 6)"
            ]
          },
          "metadata": {
            "tags": []
          },
          "execution_count": 9
        }
      ]
    },
    {
      "cell_type": "code",
      "metadata": {
        "id": "NrDxgflJsVnz",
        "colab_type": "code",
        "colab": {}
      },
      "source": [
        ""
      ],
      "execution_count": 0,
      "outputs": []
    }
  ]
}