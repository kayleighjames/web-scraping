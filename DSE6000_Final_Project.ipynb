{
  "nbformat": 4,
  "nbformat_minor": 0,
  "metadata": {
    "colab": {
      "name": "DSE6000 Final Project",
      "provenance": [],
      "collapsed_sections": []
    },
    "kernelspec": {
      "name": "python3",
      "display_name": "Python 3"
    }
  },
  "cells": [
    {
      "cell_type": "code",
      "metadata": {
        "id": "_NuLxaIoSzBJ",
        "colab_type": "code",
        "colab": {
          "base_uri": "https://localhost:8080/",
          "height": 887
        },
        "outputId": "f9559dc3-8466-4ce2-9a89-1395d1210b57"
      },
      "source": [
        "from bs4 import BeautifulSoup\n",
        "import urllib\n",
        "import requests\n",
        "\n",
        "#state_names = [\"Alaska\", \"Alabama\", \"Arkansas\", \"American Samoa\", \"Arizona\", \"California\", \"Colorado\", \"Connecticut\", \"District \", \"of Columbia\", \"Delaware\", \"Florida\", \"Georgia\", \"Guam\", \"Hawaii\", \"Iowa\", \"Idaho\", \"Illinois\", \"Indiana\", \"Kansas\", \"Kentucky\", \"Louisiana\", \"Massachusetts\", \"Maryland\", \"Maine\", \"Michigan\", \"Minnesota\", \"Missouri\", \"Mississippi\", \"Montana\", \"North Carolina\", \"North Dakota\", \"Nebraska\", \"New Hampshire\", \"New Jersey\", \"New Mexico\", \"Nevada\", \"New York\", \"Ohio\", \"Oklahoma\", \"Oregon\", \"Pennsylvania\", \"Puerto Rico\", \"Rhode Island\", \"South Carolina\", \"South Dakota\", \"Tennessee\", \"Texas\", \"Utah\", \"Virginia\", \"Virgin Islands\", \"Vermont\", \"Washington\", \"Wisconsin\", \"West Virginia\", \"Wyoming\"]\n",
        "state_names = [\"Michigan\"]\n",
        "for state in state_names:\n",
        "  url = \"https://www.indeed.com/jobs?q=data+scientist&l=\" + state\n",
        "  for page_number in range (0,1):\n",
        "    url = url + \"&start=\" + str(10*page_number)\n",
        "    #print(url)\n",
        "    req = requests.get(url)\n",
        "    soup = BeautifulSoup(req.content, \"html.parser\")\n",
        "    \n",
        "    for job in soup.find_all(\"a\", class_ = \"jobtitle turnstileLink \"): \n",
        "      job_url  = \"https://www.indeed.com\" + job['href'] \n",
        "      print(job_url)\n",
        "      try:\n",
        "        job_soup = BeautifulSoup(urllib.request.urlopen(job_url)) \n",
        "      except:\n",
        "        pass\n",
        "      #print(job_soup.prettify()[:50])\n",
        "\n",
        "      for title in job_soup.find_all(\"h3\", class_=\"jobsearch-JobInfoHeader-title\"):\n",
        "        print(title.get_text())\n",
        "      for company in job_soup.find_all(\"div\", class_ = \"icl-u-lg-mr--sm icl-u-xs-mr--xs\", limit=1):\n",
        "        print(company.get_text())\n",
        "      for salary in job_soup.find_all(\"span\", class_ = \"icl-u-xs-mr--xs\"):\n",
        "        print(salary.get_text())"
      ],
      "execution_count": 5,
      "outputs": [
        {
          "output_type": "stream",
          "text": [
            "https://www.indeed.com/pagead/clk?mo=r&ad=-6NYlbfkN0BTYkY06FZEdAAtNWO-eDAfNklmfZymsMF6eFRONl7rAMN5x_2sHrqXfWPo9rHDxSN5QVY9jItzMNiKGmQ1CNqv-eLRP-g4viOJBX-8A-i2wkPm5JofkG5TBT-b0Y1Xotu4g-JPbJ9Z6wy_yvbfZfu0JCwNiS6ybGOSECGttf63brhI0vAbfKM_t2gAPzcFern387VkspCaDlzL23QhNQclemcA8eAcUbfzneD9U8wlTwoJFriGVQix4x6bM6BzHu41ZtqvR4EswFZI2Cdidl500dh8yP2ZvrXlFAJUW91U8FLOAwFQCmXIYOt1f2WgB9FUf-8LLON3bIAaooP0vANDcAmc12VSz_Azq_q0OdmhNjXOQFxuXODsWAsSVnGJQTN6HPUYMz3S26ZjOykxnChPEqCy5IcwuimK1LI8Xk7ypio0q_LagtSwRMJvGlwf0-i-ho1QFvF4iw==&p=0&fvj=1&vjs=3\n",
            "Data Scientist\n",
            "DISYS\n",
            "$65 an hour\n",
            "https://www.indeed.com/pagead/clk?mo=r&ad=-6NYlbfkN0ACPwgM8vN-agjfeQIp8j7bA6rWcStjIJMvSUoZk9GVGafyfcR9vdi_Ifoij-dP1hPEUoAXKt7Tq16GSM4YzcEBkNv904qiOYJ_xCSguH_q1cSpvX3bURrBFxClywVTxU351nrykd9rXZsIF3JmgFiWpRrsSu7sWZoAi-b00azOSPqepmZNOi9bj6W6o1XvPSHyx7znxmG1V6hJlZB_sLHPbXDUOaZ021JWsGqFuxy42-0xSgZL5TEXaLgtDHpWQhK--XadSFtMnZMvH8Y8jzoynaarhmU48pn20tOaUm2tXleqopJ24iMIcI4hWqfOLaQjz06PlesalymwLYe13kgzuiA_WwsbO1YC4ypMdYTaA_u7nFMz5WXMbTdbcan85Z1kmTFgp_dXgI1Mo2mrezYh&p=1&fvj=0&vjs=3\n",
            "Mopar Data Scientist\n",
            "FCA\n",
            "https://www.indeed.com/pagead/clk?mo=r&ad=-6NYlbfkN0ACPwgM8vN-agjfeQIp8j7bA6rWcStjIJMvSUoZk9GVGafyfcR9vdi_Ifoij-dP1hMol4cJK8gE-BqUz7kxwzVScFgrvwZQv382BbXxUcYPdclyWWgPp3xpPyBjCCBdAO1oc4B_8qycQjk79gWmFOII_YyJToZ0G-qKtymxB20eDGxgqGbTX3G5Ho3oVFPDZMMCqtMxtF4qfZVH_xxfA7m2Tl5itW9Bi4W3ncXQUQd1orOcpz0hwnzK2q2X0oZpK63C1WEeI5Uc0JOhLqv9y-fOmG8JZiMWXRP0MeyOSYgYB0mLspLYYS9dUoo5q8mp6qbsoqNhsxjceMCLKc8YePwiZ2QIck8hSwR3TvemYSCJsWZEC-n2EaiPe1KlMPHGemQKJEpj33aw58Lm94RwUFr9&p=2&fvj=0&vjs=3\n",
            "Connected Services Data Scientist\n",
            "FCA\n",
            "https://www.indeed.com/rc/clk?jk=3e9349d9495c565c&fccid=39b4b67c5b736173&vjs=3\n",
            "Data Scientist\n",
            "DTE Energy\n",
            "https://www.indeed.com/rc/clk?jk=ad776889f5d6e1de&fccid=46c847dc877cedc2&vjs=3\n",
            "Data Scientist\n",
            "University of Michigan\n",
            "$62,000 - $67,000 a year\n",
            "https://www.indeed.com/rc/clk?jk=fcd7ba98f7812695&fccid=9e215d88a6b33622&vjs=3\n",
            "Senior Data Scientist\n",
            "Deloitte\n",
            "https://www.indeed.com/rc/clk?jk=8820f10aa53d3a47&fccid=761c44c17d636bfe&vjs=3\n",
            "ICI Analytics Data Scientist\n",
            "Ford Motor Company\n",
            "https://www.indeed.com/rc/clk?jk=1951bf71a5e41c75&fccid=347529ce49ee92b3&vjs=3\n",
            "Mopar Data Scientist\n",
            "FCA\n",
            "https://www.indeed.com/company/Ann-Arbor-Pharmacometrics-Group/jobs/Statistician-Data-Analyst-a50cfff9b14fe7f4?fccid=5d424df03bb6b684&vjs=3\n",
            "Statistician/Data Analyst\n",
            "Ann Arbor Pharmacometrics Group\n",
            "$50,000 - $70,000 a year\n",
            "https://www.indeed.com/rc/clk?jk=ef12f67490969b1c&fccid=347529ce49ee92b3&vjs=3\n",
            "Connected Services Data Scientist\n",
            "FCA\n",
            "https://www.indeed.com/rc/clk?jk=702b8d5fe18fe606&fccid=6ba71d16ecea708c&vjs=3\n",
            "Data Scientist\n",
            "LLamasoft\n",
            "https://www.indeed.com/rc/clk?jk=898d9636b371540b&fccid=761c44c17d636bfe&vjs=3\n",
            "Data Scientist\n",
            "Ford Motor Company\n",
            "https://www.indeed.com/company/WACKER-CHEMICAL/jobs/Data-Scientist-fb21b231bdcb9db8?fccid=28b7fd69f29f56ae&vjs=3\n",
            "Data Scientist III\n",
            "Wacker Chemical Corporation\n",
            "$90,000 - $100,000 a year\n",
            "https://www.indeed.com/pagead/clk?mo=r&ad=-6NYlbfkN0AbcLYJH6EEU2hhfUhIe4V-wtZUPXOEfJh72XLwlGjJwXW5GoFa_FpEyefS7rLiyrZ-vEwAVcxfUkPMCq9WYdrKam70UFtQUnY5zzK3O_xqTfNCb0A_1vyr0gJ3njL1xwPgPPWL8f4tVkL6qLYrubU8XZD97BqBLXg9HuDph-zIBocwOrGU_koQpmuPYS2PP7cefM4UvjFixY82CescL-Gv-rJzBzFLih9voj9MHd3GRT5ZV2Kj4KFcQZLxp7bR7yel56RzyOy30tz5PHsCs0mSLuCP1s06YnA98_0zjumQx-a2YiLZKF_PCUoWebckYvCfNGRpyes5jnQDuK8ykI8I0jnX4RlsiGv6bC3kOhSn1WqqDxpwGDXrpxzPR5wXVRZOqofhtlXJeyD5WXmgekeDj-FRwAuPxdU=&p=13&fvj=0&vjs=3\n",
            "Data Scientist\n",
            "Covenant Eyes\n",
            "https://www.indeed.com/pagead/clk?mo=r&ad=-6NYlbfkN0A5KkmMXg6O2EzfFGQVRulYj01zkSRAEZK_nVpLj6_Ae-N967j0bfjIP3kiNU2YaXEKeSvmcviNnifW3jKhD6v3PjWRl0VqfAxkcb9XkPu1RwJnZcsl6g-Tz1jSreRgivPx8PdCpXIRW91p7-peEHafUp9TEcTqISI-syDUXslgXu6yshCerOHUB7omDJ-IZG5Argzsa5-Mlv30z92zgkDxogBf4nmXyQpwnpaRL5Ebj2rEzNIE4qMVcmCHUsmsQTvdGJl_WiHtwV_6MvT590Nsx_hS2dDJ-gODeChf2RIJlgyTRyqzWmzx_EqwLUjxKd9SNV_anCmEcUP4Qgcbb8PfDjU3E9LtgM19jG5ab6V8DRXk1ZsTAYoM3HUZCwEFz_YU5In_mY8KeqgJnZso-PknuZDmNekv1uM=&p=14&fvj=0&vjs=3\n",
            "Sr. Data Scientist\n",
            "Venteon\n",
            "$120,000 a year\n"
          ],
          "name": "stdout"
        }
      ]
    },
    {
      "cell_type": "code",
      "metadata": {
        "id": "C8FFdT22TfCQ",
        "colab_type": "code",
        "colab": {}
      },
      "source": [
        ""
      ],
      "execution_count": 0,
      "outputs": []
    }
  ]
}